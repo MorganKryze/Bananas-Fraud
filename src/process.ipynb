{
 "cells": [
  {
   "cell_type": "markdown",
   "metadata": {},
   "source": [
    "# Signal Processing Project"
   ]
  },
  {
   "cell_type": "markdown",
   "metadata": {},
   "source": [
    "## Introduction"
   ]
  },
  {
   "cell_type": "markdown",
   "metadata": {},
   "source": [
    "### Problem"
   ]
  },
  {
   "cell_type": "markdown",
   "metadata": {},
   "source": [
    "xoxoxoxoxoxoxxo"
   ]
  },
  {
   "cell_type": "markdown",
   "metadata": {},
   "source": [
    "### Outline"
   ]
  },
  {
   "cell_type": "markdown",
   "metadata": {},
   "source": [
    "xoxoxoxoxoxoxxo"
   ]
  },
  {
   "cell_type": "markdown",
   "metadata": {},
   "source": [
    "## Data"
   ]
  },
  {
   "cell_type": "markdown",
   "metadata": {},
   "source": [
    "### Imports"
   ]
  },
  {
   "cell_type": "code",
   "execution_count": 24,
   "metadata": {},
   "outputs": [],
   "source": [
    "import pandas as pd\n",
    "import numpy as np\n",
    "import matplotlib.pyplot as plt"
   ]
  },
  {
   "cell_type": "markdown",
   "metadata": {},
   "source": [
    "### Description"
   ]
  },
  {
   "cell_type": "markdown",
   "metadata": {},
   "source": [
    "The data is separated into two categories: treated and untreated samples. We also have a series of 10 bananas that were used as a control group. The data is stored in a txt file (separated with tabulations) with two float columns: time and intensity."
   ]
  },
  {
   "cell_type": "markdown",
   "metadata": {},
   "source": [
    "#### Banana 1"
   ]
  },
  {
   "cell_type": "code",
   "execution_count": 25,
   "metadata": {},
   "outputs": [],
   "source": [
    "banana1_flowertip_treated_1 = pd.read_csv(\"../data/Treated_samples/1-FlowerTip-1.txt\", sep=\"\\t\")\n",
    "banana1_flowertip_treated_2 = pd.read_csv(\"../data/Treated_samples/1-FlowerTip-2.txt\", sep=\"\\t\")\n",
    "banana1_flowertip_treated_3 = pd.read_csv(\"../data/Treated_samples/1-FlowerTip-3.txt\", sep=\"\\t\")\n",
    "banana1_flowertip_untreated = pd.read_csv(\"../data/Untreated_samples/1-FlowerTip.txt\", sep=\"\\t\")\n",
    "\n",
    "banana1_neck_treated_1 = pd.read_csv(\"../data/Treated_samples/1-Neck-1.txt\", sep=\"\\t\")\n",
    "banana1_neck_treated_2 = pd.read_csv(\"../data/Treated_samples/1-Neck-2.txt\", sep=\"\\t\")\n",
    "banana1_neck_treated_3 = pd.read_csv(\"../data/Treated_samples/1-Neck-3.txt\", sep=\"\\t\")\n",
    "banana1_neck_untreated = pd.read_csv(\"../data/Untreated_samples/1-Neck.txt\", sep=\"\\t\")\n",
    "\n",
    "banana1_peel_treated_1 = pd.read_csv(\"../data/Treated_samples/1-Peel-1.txt\", sep=\"\\t\")\n",
    "banana1_peel_treated_2 = pd.read_csv(\"../data/Treated_samples/1-Peel-2.txt\", sep=\"\\t\")\n",
    "banana1_peel_treated_3 = pd.read_csv(\"../data/Treated_samples/1-Peel-3.txt\", sep=\"\\t\")\n",
    "banana1_peel_untreated = pd.read_csv(\"../data/Untreated_samples/1-Peel.txt\", sep=\"\\t\")\n",
    "\n",
    "banana1_pulp_treated_1 = pd.read_csv(\"../data/Treated_samples/1-Pulp-1.txt\", sep=\"\\t\")\n",
    "banana1_pulp_treated_2 = pd.read_csv(\"../data/Treated_samples/1-Pulp-2.txt\", sep=\"\\t\")\n",
    "banana1_pulp_treated_3 = pd.read_csv(\"../data/Treated_samples/1-Pulp-3.txt\", sep=\"\\t\")\n",
    "banana1_pulp_untreated = pd.read_csv(\"../data/Untreated_samples/1-Pulp.txt\", sep=\"\\t\")"
   ]
  },
  {
   "cell_type": "markdown",
   "metadata": {},
   "source": [
    "#### Banana 2"
   ]
  },
  {
   "cell_type": "code",
   "execution_count": 26,
   "metadata": {},
   "outputs": [],
   "source": [
    "banana2_flowertip_treated_1 = pd.read_csv(\"../data/Treated_samples/2-FlowerTip-1.txt\", sep=\"\\t\")\n",
    "banana2_flowertip_treated_2 = pd.read_csv(\"../data/Treated_samples/2-FlowerTip-2.txt\", sep=\"\\t\")\n",
    "banana2_flowertip_treated_3 = pd.read_csv(\"../data/Treated_samples/2-FlowerTip-3.txt\", sep=\"\\t\")\n",
    "banana2_flowertip_untreated = pd.read_csv(\"../data/Untreated_samples/2-FlowerTip.txt\", sep=\"\\t\")\n",
    "\n",
    "banana2_neck_treated_1 = pd.read_csv(\"../data/Treated_samples/2-Neck-1.txt\", sep=\"\\t\")\n",
    "banana2_neck_treated_2 = pd.read_csv(\"../data/Treated_samples/2-Neck-2.txt\", sep=\"\\t\")\n",
    "banana2_neck_treated_3 = pd.read_csv(\"../data/Treated_samples/2-Neck-3.txt\", sep=\"\\t\")\n",
    "banana2_neck_untreated = pd.read_csv(\"../data/Untreated_samples/2-Neck.txt\", sep=\"\\t\")\n",
    "\n",
    "banana2_peel_treated_1 = pd.read_csv(\"../data/Treated_samples/2-Peel-1.txt\", sep=\"\\t\")\n",
    "banana2_peel_treated_2 = pd.read_csv(\"../data/Treated_samples/2-Peel-2.txt\", sep=\"\\t\")\n",
    "banana2_peel_treated_3 = pd.read_csv(\"../data/Treated_samples/2-Peel-3.txt\", sep=\"\\t\")\n",
    "banana2_peel_untreated = pd.read_csv(\"../data/Untreated_samples/2-Peel.txt\", sep=\"\\t\")\n",
    "\n",
    "banana2_pulp_treated_1 = pd.read_csv(\"../data/Treated_samples/2-Pulp-1.txt\", sep=\"\\t\")\n",
    "banana2_pulp_treated_2 = pd.read_csv(\"../data/Treated_samples/2-Pulp-2.txt\", sep=\"\\t\")\n",
    "banana2_pulp_treated_3 = pd.read_csv(\"../data/Treated_samples/2-Pulp-3.txt\", sep=\"\\t\")\n",
    "banana2_pulp_untreated = pd.read_csv(\"../data/Untreated_samples/2-Pulp.txt\", sep=\"\\t\")"
   ]
  },
  {
   "cell_type": "markdown",
   "metadata": {},
   "source": [
    "#### Banana 3"
   ]
  },
  {
   "cell_type": "code",
   "execution_count": 27,
   "metadata": {},
   "outputs": [],
   "source": [
    "banana3_flowertip_treated_1 = pd.read_csv(\"../data/Treated_samples/3-FlowerTip-1.txt\", sep=\"\\t\")\n",
    "banana3_flowertip_treated_2 = pd.read_csv(\"../data/Treated_samples/3-FlowerTip-2.txt\", sep=\"\\t\")\n",
    "banana3_flowertip_treated_3 = pd.read_csv(\"../data/Treated_samples/3-FlowerTip-3.txt\", sep=\"\\t\")\n",
    "banana3_flowertip_untreated = pd.read_csv(\"../data/Untreated_samples/3-FlowerTip.txt\", sep=\"\\t\")\n",
    "\n",
    "banana3_neck_treated_1 = pd.read_csv(\"../data/Treated_samples/3-Neck-1.txt\", sep=\"\\t\")\n",
    "banana3_neck_treated_2 = pd.read_csv(\"../data/Treated_samples/3-Neck-2.txt\", sep=\"\\t\")\n",
    "banana3_neck_treated_3 = pd.read_csv(\"../data/Treated_samples/3-Neck-3.txt\", sep=\"\\t\")\n",
    "banana3_neck_untreated = pd.read_csv(\"../data/Untreated_samples/3-Neck.txt\", sep=\"\\t\")\n",
    "\n",
    "banana3_peel_treated_1 = pd.read_csv(\"../data/Treated_samples/3-Peel-1.txt\", sep=\"\\t\")\n",
    "banana3_peel_treated_2 = pd.read_csv(\"../data/Treated_samples/3-Peel-2.txt\", sep=\"\\t\")\n",
    "banana3_peel_treated_3 = pd.read_csv(\"../data/Treated_samples/3-Peel-3.txt\", sep=\"\\t\")\n",
    "banana3_peel_untreated = pd.read_csv(\"../data/Untreated_samples/3-Peel.txt\", sep=\"\\t\")\n",
    "\n",
    "banana3_pulp_treated_1 = pd.read_csv(\"../data/Treated_samples/3-Pulp-1.txt\", sep=\"\\t\")\n",
    "banana3_pulp_treated_2 = pd.read_csv(\"../data/Treated_samples/3-Pulp-2.txt\", sep=\"\\t\")\n",
    "banana3_pulp_treated_3 = pd.read_csv(\"../data/Treated_samples/3-Pulp-3.txt\", sep=\"\\t\")\n",
    "banana3_pulp_untreated = pd.read_csv(\"../data/Untreated_samples/3-Pulp.txt\", sep=\"\\t\")"
   ]
  },
  {
   "cell_type": "markdown",
   "metadata": {},
   "source": [
    "#### Banana 4"
   ]
  },
  {
   "cell_type": "code",
   "execution_count": 28,
   "metadata": {},
   "outputs": [],
   "source": [
    "banana4_flowertip_treated_1 = pd.read_csv(\"../data/Treated_samples/4-FlowerTip-1.txt\", sep=\"\\t\")\n",
    "banana4_flowertip_treated_2 = pd.read_csv(\"../data/Treated_samples/4-FlowerTip-2.txt\", sep=\"\\t\")\n",
    "banana4_flowertip_treated_3 = pd.read_csv(\"../data/Treated_samples/4-FlowerTip-3.txt\", sep=\"\\t\")\n",
    "banana4_flowertip_untreated = pd.read_csv(\"../data/Untreated_samples/4-FlowerTip.txt\", sep=\"\\t\")\n",
    "\n",
    "banana4_neck_treated_1 = pd.read_csv(\"../data/Treated_samples/4-Neck-1.txt\", sep=\"\\t\")\n",
    "banana4_neck_treated_2 = pd.read_csv(\"../data/Treated_samples/4-Neck-2.txt\", sep=\"\\t\")\n",
    "banana4_neck_treated_3 = pd.read_csv(\"../data/Treated_samples/4-Neck-3.txt\", sep=\"\\t\")\n",
    "banana4_neck_untreated = pd.read_csv(\"../data/Untreated_samples/4-Neck.txt\", sep=\"\\t\")\n",
    "\n",
    "banana4_peel_treated_1 = pd.read_csv(\"../data/Treated_samples/4-Peel-1.txt\", sep=\"\\t\")\n",
    "banana4_peel_treated_2 = pd.read_csv(\"../data/Treated_samples/4-Peel-2.txt\", sep=\"\\t\")\n",
    "banana4_peel_treated_3 = pd.read_csv(\"../data/Treated_samples/4-Peel-3.txt\", sep=\"\\t\")\n",
    "banana4_peel_untreated = pd.read_csv(\"../data/Untreated_samples/4-Peel.txt\", sep=\"\\t\")\n",
    "\n",
    "banana4_pulp_treated_1 = pd.read_csv(\"../data/Treated_samples/4-Pulp-1.txt\", sep=\"\\t\")\n",
    "banana4_pulp_treated_2 = pd.read_csv(\"../data/Treated_samples/4-Pulp-2.txt\", sep=\"\\t\")\n",
    "banana4_pulp_treated_3 = pd.read_csv(\"../data/Treated_samples/4-Pulp-3.txt\", sep=\"\\t\")\n",
    "banana4_pulp_untreated = pd.read_csv(\"../data/Untreated_samples/4-Pulp.txt\", sep=\"\\t\")"
   ]
  },
  {
   "cell_type": "markdown",
   "metadata": {},
   "source": [
    "#### Banana 5"
   ]
  },
  {
   "cell_type": "code",
   "execution_count": 29,
   "metadata": {},
   "outputs": [],
   "source": [
    "banana5_flowertip_treated_1 = pd.read_csv(\"../data/Treated_samples/5-FlowerTip-1.txt\", sep=\"\\t\")\n",
    "banana5_flowertip_treated_2 = pd.read_csv(\"../data/Treated_samples/5-FlowerTip-2.txt\", sep=\"\\t\")\n",
    "banana5_flowertip_treated_3 = pd.read_csv(\"../data/Treated_samples/5-FlowerTip-3.txt\", sep=\"\\t\")\n",
    "banana5_flowertip_untreated = pd.read_csv(\"../data/Untreated_samples/5-FlowerTip.txt\", sep=\"\\t\")\n",
    "\n",
    "banana5_neck_treated_1 = pd.read_csv(\"../data/Treated_samples/5-Neck-1.txt\", sep=\"\\t\")\n",
    "banana5_neck_treated_2 = pd.read_csv(\"../data/Treated_samples/5-Neck-2.txt\", sep=\"\\t\")\n",
    "banana5_neck_treated_3 = pd.read_csv(\"../data/Treated_samples/5-Neck-3.txt\", sep=\"\\t\")\n",
    "banana5_neck_untreated = pd.read_csv(\"../data/Untreated_samples/5-Neck.txt\", sep=\"\\t\")\n",
    "\n",
    "banana5_peel_treated_1 = pd.read_csv(\"../data/Treated_samples/5-Peel-1.txt\", sep=\"\\t\")\n",
    "banana5_peel_treated_2 = pd.read_csv(\"../data/Treated_samples/5-Peel-2.txt\", sep=\"\\t\")\n",
    "banana5_peel_treated_3 = pd.read_csv(\"../data/Treated_samples/5-Peel-3.txt\", sep=\"\\t\")\n",
    "banana5_peel_untreated = pd.read_csv(\"../data/Untreated_samples/5-Peel.txt\", sep=\"\\t\")\n",
    "\n",
    "banana5_pulp_treated_1 = pd.read_csv(\"../data/Treated_samples/5-Pulp-1.txt\", sep=\"\\t\")\n",
    "banana5_pulp_treated_2 = pd.read_csv(\"../data/Treated_samples/5-Pulp-2.txt\", sep=\"\\t\")\n",
    "banana5_pulp_treated_3 = pd.read_csv(\"../data/Treated_samples/5-Pulp-3.txt\", sep=\"\\t\")\n",
    "banana5_pulp_untreated = pd.read_csv(\"../data/Untreated_samples/5-Pulp.txt\", sep=\"\\t\")"
   ]
  },
  {
   "cell_type": "markdown",
   "metadata": {},
   "source": [
    "#### Banana 6"
   ]
  },
  {
   "cell_type": "code",
   "execution_count": 30,
   "metadata": {},
   "outputs": [],
   "source": [
    "banana6_flowertip_treated_1 = pd.read_csv(\"../data/Treated_samples/6-FlowerTip-1.txt\", sep=\"\\t\")\n",
    "banana6_flowertip_treated_2 = pd.read_csv(\"../data/Treated_samples/6-FlowerTip-2.txt\", sep=\"\\t\")\n",
    "banana6_flowertip_treated_3 = pd.read_csv(\"../data/Treated_samples/6-FlowerTip-3.txt\", sep=\"\\t\")\n",
    "banana6_flowertip_untreated = pd.read_csv(\"../data/Untreated_samples/6-FlowerTip.txt\", sep=\"\\t\")\n",
    "\n",
    "banana6_neck_treated_1 = pd.read_csv(\"../data/Treated_samples/6-Neck-1.txt\", sep=\"\\t\")\n",
    "banana6_neck_treated_2 = pd.read_csv(\"../data/Treated_samples/6-Neck-2.txt\", sep=\"\\t\")\n",
    "banana6_neck_treated_3 = pd.read_csv(\"../data/Treated_samples/6-Neck-3.txt\", sep=\"\\t\")\n",
    "banana6_neck_untreated = pd.read_csv(\"../data/Untreated_samples/6-Neck.txt\", sep=\"\\t\")\n",
    "\n",
    "banana6_peel_treated_1 = pd.read_csv(\"../data/Treated_samples/6-Peel-1.txt\", sep=\"\\t\")\n",
    "banana6_peel_treated_2 = pd.read_csv(\"../data/Treated_samples/6-Peel-2.txt\", sep=\"\\t\")\n",
    "banana6_peel_treated_3 = pd.read_csv(\"../data/Treated_samples/6-Peel-3.txt\", sep=\"\\t\")\n",
    "banana6_peel_untreated = pd.read_csv(\"../data/Untreated_samples/6-Peel.txt\", sep=\"\\t\")\n",
    "\n",
    "banana6_pulp_treated_1 = pd.read_csv(\"../data/Treated_samples/6-Pulp-1.txt\", sep=\"\\t\")\n",
    "banana6_pulp_treated_2 = pd.read_csv(\"../data/Treated_samples/6-Pulp-2.txt\", sep=\"\\t\")\n",
    "banana6_pulp_treated_3 = pd.read_csv(\"../data/Treated_samples/6-Pulp-3.txt\", sep=\"\\t\")\n",
    "banana6_pulp_untreated = pd.read_csv(\"../data/Untreated_samples/6-Pulp.txt\", sep=\"\\t\")"
   ]
  },
  {
   "cell_type": "markdown",
   "metadata": {},
   "source": [
    "#### Banana 7"
   ]
  },
  {
   "cell_type": "code",
   "execution_count": 31,
   "metadata": {},
   "outputs": [],
   "source": [
    "banana7_flowertip_treated_1 = pd.read_csv(\"../data/Treated_samples/7-FlowerTip-1.txt\", sep=\"\\t\")\n",
    "banana7_flowertip_treated_2 = pd.read_csv(\"../data/Treated_samples/7-FlowerTip-2.txt\", sep=\"\\t\")\n",
    "banana7_flowertip_treated_3 = pd.read_csv(\"../data/Treated_samples/7-FlowerTip-3.txt\", sep=\"\\t\")\n",
    "banana7_flowertip_untreated = pd.read_csv(\"../data/Untreated_samples/7-FlowerTip.txt\", sep=\"\\t\")\n",
    "\n",
    "banana7_neck_treated_1 = pd.read_csv(\"../data/Treated_samples/7-Neck-1.txt\", sep=\"\\t\")\n",
    "banana7_neck_treated_2 = pd.read_csv(\"../data/Treated_samples/7-Neck-2.txt\", sep=\"\\t\")\n",
    "banana7_neck_treated_3 = pd.read_csv(\"../data/Treated_samples/7-Neck-3.txt\", sep=\"\\t\")\n",
    "banana7_neck_untreated = pd.read_csv(\"../data/Untreated_samples/7-Neck.txt\", sep=\"\\t\")\n",
    "\n",
    "banana7_peel_treated_1 = pd.read_csv(\"../data/Treated_samples/7-Peel-1.txt\", sep=\"\\t\")\n",
    "banana7_peel_treated_2 = pd.read_csv(\"../data/Treated_samples/7-Peel-2.txt\", sep=\"\\t\")\n",
    "banana7_peel_treated_3 = pd.read_csv(\"../data/Treated_samples/7-Peel-3.txt\", sep=\"\\t\")\n",
    "banana7_peel_untreated = pd.read_csv(\"../data/Untreated_samples/7-Peel.txt\", sep=\"\\t\")\n",
    "\n",
    "banana7_pulp_treated_1 = pd.read_csv(\"../data/Treated_samples/7-Pulp-1.txt\", sep=\"\\t\")\n",
    "banana7_pulp_treated_2 = pd.read_csv(\"../data/Treated_samples/7-Pulp-2.txt\", sep=\"\\t\")\n",
    "banana7_pulp_treated_3 = pd.read_csv(\"../data/Treated_samples/7-Pulp-3.txt\", sep=\"\\t\")\n",
    "banana7_pulp_untreated = pd.read_csv(\"../data/Untreated_samples/7-Pulp.txt\", sep=\"\\t\")"
   ]
  },
  {
   "cell_type": "markdown",
   "metadata": {},
   "source": [
    "#### Banana 8"
   ]
  },
  {
   "cell_type": "code",
   "execution_count": 32,
   "metadata": {},
   "outputs": [],
   "source": [
    "banana8_flowertip_treated_1 = pd.read_csv(\"../data/Treated_samples/8-FlowerTip-1.txt\", sep=\"\\t\")\n",
    "banana8_flowertip_treated_2 = pd.read_csv(\"../data/Treated_samples/8-FlowerTip-2.txt\", sep=\"\\t\")\n",
    "banana8_flowertip_treated_3 = pd.read_csv(\"../data/Treated_samples/8-FlowerTip-3.txt\", sep=\"\\t\")\n",
    "banana8_flowertip_untreated = pd.read_csv(\"../data/Untreated_samples/8-FlowerTip.txt\", sep=\"\\t\")\n",
    "\n",
    "banana8_neck_treated_1 = pd.read_csv(\"../data/Treated_samples/8-Neck-1.txt\", sep=\"\\t\")\n",
    "banana8_neck_treated_2 = pd.read_csv(\"../data/Treated_samples/8-Neck-2.txt\", sep=\"\\t\")\n",
    "banana8_neck_treated_3 = pd.read_csv(\"../data/Treated_samples/8-Neck-3.txt\", sep=\"\\t\")\n",
    "banana8_neck_untreated = pd.read_csv(\"../data/Untreated_samples/8-Neck.txt\", sep=\"\\t\")\n",
    "\n",
    "banana8_peel_treated_1 = pd.read_csv(\"../data/Treated_samples/8-Peel-1.txt\", sep=\"\\t\")\n",
    "banana8_peel_treated_2 = pd.read_csv(\"../data/Treated_samples/8-Peel-2.txt\", sep=\"\\t\")\n",
    "banana8_peel_treated_3 = pd.read_csv(\"../data/Treated_samples/8-Peel-3.txt\", sep=\"\\t\")\n",
    "banana8_peel_untreated = pd.read_csv(\"../data/Untreated_samples/8-Peel.txt\", sep=\"\\t\")\n",
    "\n",
    "banana8_pulp_treated_1 = pd.read_csv(\"../data/Treated_samples/8-Pulp-1.txt\", sep=\"\\t\")\n",
    "banana8_pulp_treated_2 = pd.read_csv(\"../data/Treated_samples/8-Pulp-2.txt\", sep=\"\\t\")\n",
    "banana8_pulp_treated_3 = pd.read_csv(\"../data/Treated_samples/8-Pulp-3.txt\", sep=\"\\t\")\n",
    "banana8_pulp_untreated = pd.read_csv(\"../data/Untreated_samples/8-Pulp.txt\", sep=\"\\t\")"
   ]
  },
  {
   "cell_type": "markdown",
   "metadata": {},
   "source": [
    "#### Banana 9"
   ]
  },
  {
   "cell_type": "code",
   "execution_count": 33,
   "metadata": {},
   "outputs": [],
   "source": [
    "banana9_flowertip_treated_1 = pd.read_csv(\"../data/Treated_samples/9-FlowerTip-1.txt\", sep=\"\\t\")\n",
    "banana9_flowertip_treated_2 = pd.read_csv(\"../data/Treated_samples/9-FlowerTip-2.txt\", sep=\"\\t\")\n",
    "banana9_flowertip_treated_3 = pd.read_csv(\"../data/Treated_samples/9-FlowerTip-3.txt\", sep=\"\\t\")\n",
    "banana9_flowertip_untreated = pd.read_csv(\"../data/Untreated_samples/9-FlowerTip.txt\", sep=\"\\t\")\n",
    "\n",
    "banana9_neck_treated_1 = pd.read_csv(\"../data/Treated_samples/9-Neck-1.txt\", sep=\"\\t\")\n",
    "banana9_neck_treated_2 = pd.read_csv(\"../data/Treated_samples/9-Neck-2.txt\", sep=\"\\t\")\n",
    "banana9_neck_treated_3 = pd.read_csv(\"../data/Treated_samples/9-Neck-3.txt\", sep=\"\\t\")\n",
    "banana9_neck_untreated = pd.read_csv(\"../data/Untreated_samples/9-Neck.txt\", sep=\"\\t\")\n",
    "\n",
    "banana9_peel_treated_1 = pd.read_csv(\"../data/Treated_samples/9-Peel-1.txt\", sep=\"\\t\")\n",
    "banana9_peel_treated_2 = pd.read_csv(\"../data/Treated_samples/9-Peel-2.txt\", sep=\"\\t\")\n",
    "banana9_peel_treated_3 = pd.read_csv(\"../data/Treated_samples/9-Peel-3.txt\", sep=\"\\t\")\n",
    "banana9_peel_untreated = pd.read_csv(\"../data/Untreated_samples/9-Peel.txt\", sep=\"\\t\")\n",
    "\n",
    "banana9_pulp_treated_1 = pd.read_csv(\"../data/Treated_samples/9-Pulp-1.txt\", sep=\"\\t\")\n",
    "banana9_pulp_treated_2 = pd.read_csv(\"../data/Treated_samples/9-Pulp-2.txt\", sep=\"\\t\")\n",
    "banana9_pulp_treated_3 = pd.read_csv(\"../data/Treated_samples/9-Pulp-3.txt\", sep=\"\\t\")\n",
    "banana9_pulp_untreated = pd.read_csv(\"../data/Untreated_samples/9-Pulp.txt\", sep=\"\\t\")"
   ]
  },
  {
   "cell_type": "markdown",
   "metadata": {},
   "source": [
    "#### Banana 10"
   ]
  },
  {
   "cell_type": "code",
   "execution_count": 34,
   "metadata": {},
   "outputs": [],
   "source": [
    "banana10_flowertip_treated_1 = pd.read_csv(\"../data/Treated_samples/10-FlowerTip-1.txt\", sep=\"\\t\")\n",
    "banana10_flowertip_treated_2 = pd.read_csv(\"../data/Treated_samples/10-FlowerTip-2.txt\", sep=\"\\t\")\n",
    "banana10_flowertip_treated_3 = pd.read_csv(\"../data/Treated_samples/10-FlowerTip-3.txt\", sep=\"\\t\")\n",
    "banana10_flowertip_untreated = pd.read_csv(\"../data/Untreated_samples/10-FlowerTip.txt\", sep=\"\\t\")\n",
    "\n",
    "banana10_neck_treated_1 = pd.read_csv(\"../data/Treated_samples/10-Neck-1.txt\", sep=\"\\t\")\n",
    "banana10_neck_treated_2 = pd.read_csv(\"../data/Treated_samples/10-Neck-2.txt\", sep=\"\\t\")\n",
    "banana10_neck_treated_3 = pd.read_csv(\"../data/Treated_samples/10-Neck-3.txt\", sep=\"\\t\")\n",
    "banana10_neck_untreated = pd.read_csv(\"../data/Untreated_samples/10-Neck.txt\", sep=\"\\t\")\n",
    "\n",
    "banana10_peel_treated_1 = pd.read_csv(\"../data/Treated_samples/10-Peel-1.txt\", sep=\"\\t\")\n",
    "banana10_peel_treated_2 = pd.read_csv(\"../data/Treated_samples/10-Peel-2.txt\", sep=\"\\t\")\n",
    "banana10_peel_treated_3 = pd.read_csv(\"../data/Treated_samples/10-Peel-3.txt\", sep=\"\\t\")\n",
    "banana10_peel_untreated = pd.read_csv(\"../data/Untreated_samples/10-Peel.txt\", sep=\"\\t\")\n",
    "\n",
    "banana10_pulp_treated_1 = pd.read_csv(\"../data/Treated_samples/10-Pulp-1.txt\", sep=\"\\t\")\n",
    "banana10_pulp_treated_2 = pd.read_csv(\"../data/Treated_samples/10-Pulp-2.txt\", sep=\"\\t\")\n",
    "banana10_pulp_treated_3 = pd.read_csv(\"../data/Treated_samples/10-Pulp-3.txt\", sep=\"\\t\")\n",
    "banana10_pulp_untreated = pd.read_csv(\"../data/Untreated_samples/10-Pulp.txt\", sep=\"\\t\")"
   ]
  },
  {
   "cell_type": "markdown",
   "metadata": {},
   "source": [
    "## Data visualization"
   ]
  },
  {
   "cell_type": "code",
   "execution_count": null,
   "metadata": {},
   "outputs": [],
   "source": []
  }
 ],
 "metadata": {
  "kernelspec": {
   "display_name": "py-signal-proc",
   "language": "python",
   "name": "python3"
  },
  "language_info": {
   "codemirror_mode": {
    "name": "ipython",
    "version": 3
   },
   "file_extension": ".py",
   "mimetype": "text/x-python",
   "name": "python",
   "nbconvert_exporter": "python",
   "pygments_lexer": "ipython3",
   "version": "3.12.2"
  }
 },
 "nbformat": 4,
 "nbformat_minor": 2
}
